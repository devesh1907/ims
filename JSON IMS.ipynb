{
 "cells": [
  {
   "cell_type": "code",
   "execution_count": 1,
   "id": "43bb9b8b",
   "metadata": {},
   "outputs": [],
   "source": [
    "record={10010:{\"name\":\"cayene pepper\",\"content\":\"spices\",\"packaging_date\":\"31/08/21\",\"expiry_date\":\"31/08/22\",\"price\":\"20\"},\n",
    "        10011:{\"name\":\"Cloves\",\"content\":\"spices\",\"packaging_date\":\"31/08/21\",\"expiry_date\":\"31/08/22\",\"price\":\"25\"},\n",
    "        10012:{\"name\":\"Garam masala\",\"content\":\"spices\",\"packaging_date\":\"31/08/21\",\"expiry_date\":\"31/08/22\",\"price\":\"30\"},\n",
    "        10013:{\"name\":\"Garlic powder\",\"content\":\"spices\",\"packaging_date\":\"31/08/21\",\"expiry_date\":\"31/08/22\",\"price\":\"35\"},\n",
    "        10014:{\"name\":\"Fenugreek seeds\",\"content\":\"spices\",\"packaging_date\":\"31/08/21\",\"expiry_date\":\"31/08/22\",\"price\":\"40\"},\n",
    "        10015:{\"name\":\"Fennel\",\"content\":\"spices\",\"packaging_date\":\"31/08/21\",\"expiry_date\":\"31/08/22\",\"price\":\"45\"},\n",
    "        10016:{\"name\":\"Cardamom\",\"content\":\"spices\",\"packaging_date\":\"31/08/21\",\"expiry_date\":\"31/08/22\",\"price\":\"50\"},\n",
    "        10017:{\"name\":\"Turmeric\",\"content\":\"spices\",\"packaging_date\":\"31/08/21\",\"expiry_date\":\"31/08/22\",\"price\":\"55\"},\n",
    "        10018:{\"name\":\"Saffron\",\"content\":\"spices\",\"packaging_date\":\"31/08/21\",\"expiry_date\":\"31/08/22\",\"price\":\"60\"},\n",
    "        10019:{\"name\":\"Cumin\",\"content\":\"spices\",\"packaging_date\":\"31/08/21\",\"expiry_date\":\"31/08/22\",\"price\":\"65\"},\n",
    "        10020:{\"name\":\"Asafoetida\",\"content\":\"spices\",\"packaging_date\":\"31/08/21\",\"expiry_date\":\"31/08/22\",\"price\":\"70\"},\n",
    "        10021:{\"name\":\"Cinnamon\",\"content\":\"spices\",\"packaging_date\":\"31/08/21\",\"expiry_date\":\"31/08/22\",\"price\":\"75\"},\n",
    "        10022:{\"name\":\"Coriander\",\"content\":\"spices\",\"packaging_date\":\"31/08/21\",\"expiry_date\":\"31/08/22\",\"price\":\"80\"},\n",
    "        10023:{\"name\":\"Mustard seeds\",\"content\":\"spices\",\"packaging_date\":\"31/08/21\",\"expiry_date\":\"31/08/22\",\"price\":\"85\"},\n",
    "        10024:{\"name\":\"Red chilli powder\",\"content\":\"spices\",\"packaging_date\":\"31/08/21\",\"expiry_date\":\"31/08/22\",\"price\":\"90\"},\n",
    "        10025:{\"name\":\"rice\",\"content\":\"grains\",\"packaging_date\":\"31/08/21\",\"expiry_date\":\"31/08/23\",\"price\":\"100\"},\n",
    "        10026:{\"name\":\"moong dal\",\"content\":\"grains\",\"packaging_date\":\"31/08/21\",\"expiry_date\":\"31/08/23\",\"price\":\"105\"},\n",
    "        10027:{\"name\":\"urad dal\",\"content\":\"grains\",\"packaging_date\":\"31/08/21\",\"expiry_date\":\"31/08/23\",\"price\":\"110\"},\n",
    "        10028:{\"name\":\"chana dal\",\"content\":\"grains\",\"packaging_date\":\"31/08/21\",\"expiry_date\":\"31/08/23\",\"price\":\"115\"},\n",
    "        10029:{\"name\":\"toor dal\",\"content\":\"grains\",\"packaging_date\":\"31/08/21\",\"expiry_date\":\"31/08/23\",\"price\":\"120\"},\n",
    "        10030:{\"name\":\"bajra\",\"content\":\"grains\",\"packaging_date\":\"31/08/21\",\"expiry_date\":\"31/08/23\",\"price\":\"125\"},\n",
    "        10031:{\"name\":\"jawar\",\"content\":\"grains\",\"packaging_date\":\"31/08/21\",\"expiry_date\":\"31/08/23\",\"price\":\"130\"},\n",
    "        10032:{\"name\":\"wheat\",\"content\":\"grains\",\"packaging_date\":\"31/08/21\",\"expiry_date\":\"31/08/23\",\"price\":\"135\"},\n",
    "        10033:{\"name\":\"corn flour\",\"content\":\"grains\",\"packaging_date\":\"31/08/21\",\"expiry_date\":\"31/08/23\",\"price\":\"140\"},\n",
    "        10034:{\"name\":\"maida\",\"content\":\"grains\",\"packaging_date\":\"31/08/21\",\"expiry_date\":\"31/08/23\",\"price\":\"145\"},\n",
    "        10035:{\"name\":\"besan\",\"content\":\"grains\",\"packaging_date\":\"31/08/21\",\"expiry_date\":\"31/08/23\",\"price\":\"150\"},\n",
    "        10036:{\"name\":\"suji\",\"content\":\"grains\",\"packaging_date\":\"31/08/21\",\"expiry_date\":\"31/08/23\",\"price\":\"155\"},\n",
    "        10037:{\"name\":\"salt\",\"content\":\"spices\",\"packaging_date\":\"31/08/21\",\"expiry_date\":\"31/08/23\",\"price\":\"160\"},\n",
    "        10038:{\"name\":\"sugar\",\"content\":\"spices\",\"packaging_date\":\"31/08/21\",\"expiry_date\":\"31/08/23\",\"price\":\"165\"},\n",
    "        10039:{\"name\":\"jaggery\",\"content\":\"spices\",\"packaging_date\":\"31/08/21\",\"expiry_date\":\"31/08/23\",\"price\":\"170\"},\n",
    "       }"
   ]
  },
  {
   "cell_type": "code",
   "execution_count": 2,
   "id": "865b2a6d",
   "metadata": {},
   "outputs": [
    {
     "name": "stdout",
     "output_type": "stream",
     "text": [
      "{10010: {'name': 'cayene pepper', 'content': 'spices', 'packaging_date': '31/08/21', 'expiry_date': '31/08/22', 'price': '20'}, 10011: {'name': 'Cloves', 'content': 'spices', 'packaging_date': '31/08/21', 'expiry_date': '31/08/22', 'price': '25'}, 10012: {'name': 'Garam masala', 'content': 'spices', 'packaging_date': '31/08/21', 'expiry_date': '31/08/22', 'price': '30'}, 10013: {'name': 'Garlic powder', 'content': 'spices', 'packaging_date': '31/08/21', 'expiry_date': '31/08/22', 'price': '35'}, 10014: {'name': 'Fenugreek seeds', 'content': 'spices', 'packaging_date': '31/08/21', 'expiry_date': '31/08/22', 'price': '40'}, 10015: {'name': 'Fennel', 'content': 'spices', 'packaging_date': '31/08/21', 'expiry_date': '31/08/22', 'price': '45'}, 10016: {'name': 'Cardamom', 'content': 'spices', 'packaging_date': '31/08/21', 'expiry_date': '31/08/22', 'price': '50'}, 10017: {'name': 'Turmeric', 'content': 'spices', 'packaging_date': '31/08/21', 'expiry_date': '31/08/22', 'price': '55'}, 10018: {'name': 'Saffron', 'content': 'spices', 'packaging_date': '31/08/21', 'expiry_date': '31/08/22', 'price': '60'}, 10019: {'name': 'Cumin', 'content': 'spices', 'packaging_date': '31/08/21', 'expiry_date': '31/08/22', 'price': '65'}, 10020: {'name': 'Asafoetida', 'content': 'spices', 'packaging_date': '31/08/21', 'expiry_date': '31/08/22', 'price': '70'}, 10021: {'name': 'Cinnamon', 'content': 'spices', 'packaging_date': '31/08/21', 'expiry_date': '31/08/22', 'price': '75'}, 10022: {'name': 'Coriander', 'content': 'spices', 'packaging_date': '31/08/21', 'expiry_date': '31/08/22', 'price': '80'}, 10023: {'name': 'Mustard seeds', 'content': 'spices', 'packaging_date': '31/08/21', 'expiry_date': '31/08/22', 'price': '85'}, 10024: {'name': 'Red chilli powder', 'content': 'spices', 'packaging_date': '31/08/21', 'expiry_date': '31/08/22', 'price': '90'}, 10025: {'name': 'rice', 'content': 'grains', 'packaging_date': '31/08/21', 'expiry_date': '31/08/23', 'price': '100'}, 10026: {'name': 'moong dal', 'content': 'grains', 'packaging_date': '31/08/21', 'expiry_date': '31/08/23', 'price': '105'}, 10027: {'name': 'urad dal', 'content': 'grains', 'packaging_date': '31/08/21', 'expiry_date': '31/08/23', 'price': '110'}, 10028: {'name': 'chana dal', 'content': 'grains', 'packaging_date': '31/08/21', 'expiry_date': '31/08/23', 'price': '115'}, 10029: {'name': 'toor dal', 'content': 'grains', 'packaging_date': '31/08/21', 'expiry_date': '31/08/23', 'price': '120'}, 10030: {'name': 'bajra', 'content': 'grains', 'packaging_date': '31/08/21', 'expiry_date': '31/08/23', 'price': '125'}, 10031: {'name': 'jawar', 'content': 'grains', 'packaging_date': '31/08/21', 'expiry_date': '31/08/23', 'price': '130'}, 10032: {'name': 'wheat', 'content': 'grains', 'packaging_date': '31/08/21', 'expiry_date': '31/08/23', 'price': '135'}, 10033: {'name': 'corn flour', 'content': 'grains', 'packaging_date': '31/08/21', 'expiry_date': '31/08/23', 'price': '140'}, 10034: {'name': 'maida', 'content': 'grains', 'packaging_date': '31/08/21', 'expiry_date': '31/08/23', 'price': '145'}, 10035: {'name': 'besan', 'content': 'grains', 'packaging_date': '31/08/21', 'expiry_date': '31/08/23', 'price': '150'}, 10036: {'name': 'suji', 'content': 'grains', 'packaging_date': '31/08/21', 'expiry_date': '31/08/23', 'price': '155'}, 10037: {'name': 'salt', 'content': 'spices', 'packaging_date': '31/08/21', 'expiry_date': '31/08/23', 'price': '160'}, 10038: {'name': 'sugar', 'content': 'spices', 'packaging_date': '31/08/21', 'expiry_date': '31/08/23', 'price': '165'}, 10039: {'name': 'jaggery', 'content': 'spices', 'packaging_date': '31/08/21', 'expiry_date': '31/08/23', 'price': '170'}}\n"
     ]
    }
   ],
   "source": [
    "print(record)"
   ]
  },
  {
   "cell_type": "code",
   "execution_count": 3,
   "id": "7704e5a6",
   "metadata": {},
   "outputs": [
    {
     "name": "stdout",
     "output_type": "stream",
     "text": [
      "enter the required id10010\n",
      "{'name': 'cayene pepper', 'content': 'spices', 'packaging_date': '31/08/21', 'expiry_date': '31/08/22', 'price': '20'}\n",
      "<class 'dict'>\n"
     ]
    }
   ],
   "source": [
    "i=int(input(\"enter the required id\"))\n",
    "print(record[i])\n",
    "print(type(record))"
   ]
  },
  {
   "cell_type": "code",
   "execution_count": 4,
   "id": "3c0f3928",
   "metadata": {},
   "outputs": [],
   "source": [
    "import json\n",
    "import time"
   ]
  },
  {
   "cell_type": "code",
   "execution_count": 5,
   "id": "baff282b",
   "metadata": {},
   "outputs": [],
   "source": [
    "f=open(\"records.json\",\"w\")\n",
    "rec1=json.dumps(record)\n",
    "f.write(rec1)\n",
    "f.close()"
   ]
  },
  {
   "cell_type": "code",
   "execution_count": 6,
   "id": "7764229b",
   "metadata": {},
   "outputs": [
    {
     "name": "stdout",
     "output_type": "stream",
     "text": [
      "{'10010': {'name': 'cayene pepper', 'content': 'spices', 'packaging_date': '31/08/21', 'expiry_date': '31/08/22', 'price': '20'}, '10011': {'name': 'Cloves', 'content': 'spices', 'packaging_date': '31/08/21', 'expiry_date': '31/08/22', 'price': '25'}, '10012': {'name': 'Garam masala', 'content': 'spices', 'packaging_date': '31/08/21', 'expiry_date': '31/08/22', 'price': '30'}, '10013': {'name': 'Garlic powder', 'content': 'spices', 'packaging_date': '31/08/21', 'expiry_date': '31/08/22', 'price': '35'}, '10014': {'name': 'Fenugreek seeds', 'content': 'spices', 'packaging_date': '31/08/21', 'expiry_date': '31/08/22', 'price': '40'}, '10015': {'name': 'Fennel', 'content': 'spices', 'packaging_date': '31/08/21', 'expiry_date': '31/08/22', 'price': '45'}, '10016': {'name': 'Cardamom', 'content': 'spices', 'packaging_date': '31/08/21', 'expiry_date': '31/08/22', 'price': '50'}, '10017': {'name': 'Turmeric', 'content': 'spices', 'packaging_date': '31/08/21', 'expiry_date': '31/08/22', 'price': '55'}, '10018': {'name': 'Saffron', 'content': 'spices', 'packaging_date': '31/08/21', 'expiry_date': '31/08/22', 'price': '60'}, '10019': {'name': 'Cumin', 'content': 'spices', 'packaging_date': '31/08/21', 'expiry_date': '31/08/22', 'price': '65'}, '10020': {'name': 'Asafoetida', 'content': 'spices', 'packaging_date': '31/08/21', 'expiry_date': '31/08/22', 'price': '70'}, '10021': {'name': 'Cinnamon', 'content': 'spices', 'packaging_date': '31/08/21', 'expiry_date': '31/08/22', 'price': '75'}, '10022': {'name': 'Coriander', 'content': 'spices', 'packaging_date': '31/08/21', 'expiry_date': '31/08/22', 'price': '80'}, '10023': {'name': 'Mustard seeds', 'content': 'spices', 'packaging_date': '31/08/21', 'expiry_date': '31/08/22', 'price': '85'}, '10024': {'name': 'Red chilli powder', 'content': 'spices', 'packaging_date': '31/08/21', 'expiry_date': '31/08/22', 'price': '90'}, '10025': {'name': 'rice', 'content': 'grains', 'packaging_date': '31/08/21', 'expiry_date': '31/08/23', 'price': '100'}, '10026': {'name': 'moong dal', 'content': 'grains', 'packaging_date': '31/08/21', 'expiry_date': '31/08/23', 'price': '105'}, '10027': {'name': 'urad dal', 'content': 'grains', 'packaging_date': '31/08/21', 'expiry_date': '31/08/23', 'price': '110'}, '10028': {'name': 'chana dal', 'content': 'grains', 'packaging_date': '31/08/21', 'expiry_date': '31/08/23', 'price': '115'}, '10029': {'name': 'toor dal', 'content': 'grains', 'packaging_date': '31/08/21', 'expiry_date': '31/08/23', 'price': '120'}, '10030': {'name': 'bajra', 'content': 'grains', 'packaging_date': '31/08/21', 'expiry_date': '31/08/23', 'price': '125'}, '10031': {'name': 'jawar', 'content': 'grains', 'packaging_date': '31/08/21', 'expiry_date': '31/08/23', 'price': '130'}, '10032': {'name': 'wheat', 'content': 'grains', 'packaging_date': '31/08/21', 'expiry_date': '31/08/23', 'price': '135'}, '10033': {'name': 'corn flour', 'content': 'grains', 'packaging_date': '31/08/21', 'expiry_date': '31/08/23', 'price': '140'}, '10034': {'name': 'maida', 'content': 'grains', 'packaging_date': '31/08/21', 'expiry_date': '31/08/23', 'price': '145'}, '10035': {'name': 'besan', 'content': 'grains', 'packaging_date': '31/08/21', 'expiry_date': '31/08/23', 'price': '150'}, '10036': {'name': 'suji', 'content': 'grains', 'packaging_date': '31/08/21', 'expiry_date': '31/08/23', 'price': '155'}, '10037': {'name': 'salt', 'content': 'spices', 'packaging_date': '31/08/21', 'expiry_date': '31/08/23', 'price': '160'}, '10038': {'name': 'sugar', 'content': 'spices', 'packaging_date': '31/08/21', 'expiry_date': '31/08/23', 'price': '165'}, '10039': {'name': 'jaggery', 'content': 'spices', 'packaging_date': '31/08/21', 'expiry_date': '31/08/23', 'price': '170'}}\n"
     ]
    }
   ],
   "source": [
    "print(json.loads(rec1))"
   ]
  },
  {
   "cell_type": "code",
   "execution_count": 7,
   "id": "4be3172b",
   "metadata": {},
   "outputs": [
    {
     "name": "stdout",
     "output_type": "stream",
     "text": [
      "<class 'dict'>\n",
      "{'10010': {'name': 'cayene pepper', 'content': 'spices', 'packaging_date': '31/08/21', 'expiry_date': '31/08/22', 'price': '20'}, '10011': {'name': 'Cloves', 'content': 'spices', 'packaging_date': '31/08/21', 'expiry_date': '31/08/22', 'price': '25'}, '10012': {'name': 'Garam masala', 'content': 'spices', 'packaging_date': '31/08/21', 'expiry_date': '31/08/22', 'price': '30'}, '10013': {'name': 'Garlic powder', 'content': 'spices', 'packaging_date': '31/08/21', 'expiry_date': '31/08/22', 'price': '35'}, '10014': {'name': 'Fenugreek seeds', 'content': 'spices', 'packaging_date': '31/08/21', 'expiry_date': '31/08/22', 'price': '40'}, '10015': {'name': 'Fennel', 'content': 'spices', 'packaging_date': '31/08/21', 'expiry_date': '31/08/22', 'price': '45'}, '10016': {'name': 'Cardamom', 'content': 'spices', 'packaging_date': '31/08/21', 'expiry_date': '31/08/22', 'price': '50'}, '10017': {'name': 'Turmeric', 'content': 'spices', 'packaging_date': '31/08/21', 'expiry_date': '31/08/22', 'price': '55'}, '10018': {'name': 'Saffron', 'content': 'spices', 'packaging_date': '31/08/21', 'expiry_date': '31/08/22', 'price': '60'}, '10019': {'name': 'Cumin', 'content': 'spices', 'packaging_date': '31/08/21', 'expiry_date': '31/08/22', 'price': '65'}, '10020': {'name': 'Asafoetida', 'content': 'spices', 'packaging_date': '31/08/21', 'expiry_date': '31/08/22', 'price': '70'}, '10021': {'name': 'Cinnamon', 'content': 'spices', 'packaging_date': '31/08/21', 'expiry_date': '31/08/22', 'price': '75'}, '10022': {'name': 'Coriander', 'content': 'spices', 'packaging_date': '31/08/21', 'expiry_date': '31/08/22', 'price': '80'}, '10023': {'name': 'Mustard seeds', 'content': 'spices', 'packaging_date': '31/08/21', 'expiry_date': '31/08/22', 'price': '85'}, '10024': {'name': 'Red chilli powder', 'content': 'spices', 'packaging_date': '31/08/21', 'expiry_date': '31/08/22', 'price': '90'}, '10025': {'name': 'rice', 'content': 'grains', 'packaging_date': '31/08/21', 'expiry_date': '31/08/23', 'price': '100'}, '10026': {'name': 'moong dal', 'content': 'grains', 'packaging_date': '31/08/21', 'expiry_date': '31/08/23', 'price': '105'}, '10027': {'name': 'urad dal', 'content': 'grains', 'packaging_date': '31/08/21', 'expiry_date': '31/08/23', 'price': '110'}, '10028': {'name': 'chana dal', 'content': 'grains', 'packaging_date': '31/08/21', 'expiry_date': '31/08/23', 'price': '115'}, '10029': {'name': 'toor dal', 'content': 'grains', 'packaging_date': '31/08/21', 'expiry_date': '31/08/23', 'price': '120'}, '10030': {'name': 'bajra', 'content': 'grains', 'packaging_date': '31/08/21', 'expiry_date': '31/08/23', 'price': '125'}, '10031': {'name': 'jawar', 'content': 'grains', 'packaging_date': '31/08/21', 'expiry_date': '31/08/23', 'price': '130'}, '10032': {'name': 'wheat', 'content': 'grains', 'packaging_date': '31/08/21', 'expiry_date': '31/08/23', 'price': '135'}, '10033': {'name': 'corn flour', 'content': 'grains', 'packaging_date': '31/08/21', 'expiry_date': '31/08/23', 'price': '140'}, '10034': {'name': 'maida', 'content': 'grains', 'packaging_date': '31/08/21', 'expiry_date': '31/08/23', 'price': '145'}, '10035': {'name': 'besan', 'content': 'grains', 'packaging_date': '31/08/21', 'expiry_date': '31/08/23', 'price': '150'}, '10036': {'name': 'suji', 'content': 'grains', 'packaging_date': '31/08/21', 'expiry_date': '31/08/23', 'price': '155'}, '10037': {'name': 'salt', 'content': 'spices', 'packaging_date': '31/08/21', 'expiry_date': '31/08/23', 'price': '160'}, '10038': {'name': 'sugar', 'content': 'spices', 'packaging_date': '31/08/21', 'expiry_date': '31/08/23', 'price': '165'}, '10039': {'name': 'jaggery', 'content': 'spices', 'packaging_date': '31/08/21', 'expiry_date': '31/08/23', 'price': '170'}}\n"
     ]
    }
   ],
   "source": [
    "f=open(\"records.json\",\"r\")\n",
    "rec2=json.loads(rec1)\n",
    "txt=f.read()\n",
    "print(type(rec2))\n",
    "print(rec2)\n",
    "f.close()"
   ]
  },
  {
   "cell_type": "code",
   "execution_count": 8,
   "id": "c07598ce",
   "metadata": {},
   "outputs": [
    {
     "name": "stdout",
     "output_type": "stream",
     "text": [
      "<class 'dict'>\n"
     ]
    }
   ],
   "source": [
    "print(type(record))"
   ]
  },
  {
   "cell_type": "code",
   "execution_count": 9,
   "id": "ec667ed4",
   "metadata": {},
   "outputs": [
    {
     "name": "stdout",
     "output_type": "stream",
     "text": [
      "***********************************************************\n",
      "enter the number of item require  :2\n",
      "enter the product id:10010\n",
      "product info:\n",
      "name: cayene pepper\n",
      "content: spices\n",
      "packaging_date: 31/08/21\n",
      "expiry_date: 31/08/22\n",
      "amount 20 rupees\n",
      "enter the quantity of product purchase:4\n",
      "name: cayene pepper content: spices price: 80 rupees\n",
      "enter the product id:10011\n",
      "product info:\n",
      "name: Cloves\n",
      "content: spices\n",
      "packaging_date: 31/08/21\n",
      "expiry_date: 31/08/22\n",
      "amount 25 rupees\n",
      "enter the quantity of product purchase:5\n",
      "name: Cloves content: spices price: 125 rupees\n",
      "Total price of bill: 205 payed at: Mon Sep  6 18:46:08 2021\n",
      "*************************************************************\n"
     ]
    }
   ],
   "source": [
    "print(\"***********************************************************\")\n",
    "num=int(input(\"enter the number of item require  :\"))\n",
    "i=0\n",
    "billing=0\n",
    "purchase={}\n",
    "while(i!=num):\n",
    "    x=input(\"enter the product id:\")\n",
    "    print(\"product info:\")\n",
    "    print(\"name:\",rec2[x][\"name\"])\n",
    "    print(\"content:\",rec2[x][\"content\"])\n",
    "    print(\"packaging_date:\",rec2[x][\"packaging_date\"])\n",
    "    print(\"expiry_date:\",rec2[x][\"expiry_date\"])\n",
    "    print(\"amount\",rec2[x][\"price\"],\"rupees\")\n",
    "    z=input(\"enter the quantity of product purchase:\")\n",
    "    amount_price=float(z)*float(rec2[x][\"price\"])\n",
    "    print(\"name:\",rec2[x][\"name\"],\"content:\",rec2[x][\"content\"],\"price:\",int(amount_price),\"rupees\")\n",
    "    purchase[x]={\"name\":rec2[x]['name'],\"content\":rec2[x]['content'],\"packaging_date\":rec2[x]['packaging_date'],\"expiry_date\":rec2[x]['expiry_date'],\"price\":rec2[x]['price'],'Purchased at': time.ctime()}\n",
    "    billing=billing+int(amount_price)\n",
    "    i+=1\n",
    "    \n",
    "print(\"Total price of bill:\",billing,\"payed at:\",time.ctime())\n",
    "print(\"*************************************************************\")\n",
    "f=open(\"purchasing_info.json\",\"a\")\n",
    "f.write(json.dumps(purchase))\n",
    "f.close()\n"
   ]
  },
  {
   "cell_type": "code",
   "execution_count": null,
   "id": "8fece6cc",
   "metadata": {},
   "outputs": [],
   "source": []
  },
  {
   "cell_type": "code",
   "execution_count": null,
   "id": "97318f2e",
   "metadata": {},
   "outputs": [],
   "source": []
  }
 ],
 "metadata": {
  "kernelspec": {
   "display_name": "Python 3",
   "language": "python",
   "name": "python3"
  },
  "language_info": {
   "codemirror_mode": {
    "name": "ipython",
    "version": 3
   },
   "file_extension": ".py",
   "mimetype": "text/x-python",
   "name": "python",
   "nbconvert_exporter": "python",
   "pygments_lexer": "ipython3",
   "version": "3.8.8"
  }
 },
 "nbformat": 4,
 "nbformat_minor": 5
}
